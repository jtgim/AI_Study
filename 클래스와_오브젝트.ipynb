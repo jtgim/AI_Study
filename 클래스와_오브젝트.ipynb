{
  "nbformat": 4,
  "nbformat_minor": 0,
  "metadata": {
    "colab": {
      "name": "클래스와 오브젝트",
      "provenance": [],
      "authorship_tag": "ABX9TyOm8LvOtrr8F45f2+Ywscc+",
      "include_colab_link": true
    },
    "kernelspec": {
      "name": "python3",
      "display_name": "Python 3"
    }
  },
  "cells": [
    {
      "cell_type": "markdown",
      "metadata": {
        "id": "view-in-github",
        "colab_type": "text"
      },
      "source": [
        "<a href=\"https://colab.research.google.com/github/jtgim/AI_Study/blob/main/%ED%81%B4%EB%9E%98%EC%8A%A4%EC%99%80_%EC%98%A4%EB%B8%8C%EC%A0%9D%ED%8A%B8.ipynb\" target=\"_parent\"><img src=\"https://colab.research.google.com/assets/colab-badge.svg\" alt=\"Open In Colab\"/></a>"
      ]
    },
    {
      "cell_type": "code",
      "metadata": {
        "colab": {
          "base_uri": "https://localhost:8080/"
        },
        "id": "KU7IdCZgbfgF",
        "outputId": "3f7c300a-db0d-4256-fad1-25f5f4660e0a"
      },
      "source": [
        "# 클래스 = 함수 + 변수 모아 놓은것, 빵틀\r\n",
        "# 오브젝터(인스턴스) : 클래스를 써서 만들어 낸 물체 , 빵\r\n",
        "class Person:   # 함수 하나만 가지고 있는 Person이라는 클래스를 만듦\r\n",
        "  def say_hello(self):  #  say_hello라는 '안녕' 이라고 출력하는 함수를 만듦 \r\n",
        "    print(\"안녕\") \r\n",
        "\r\n",
        "p = Person()  # p 라는 오브젝트를 만듦\r\n",
        "p.say_hello() # p 라는 오브젝트에서 say_hello 라는 함수를 써겠다.\r\n"
      ],
      "execution_count": null,
      "outputs": [
        {
          "output_type": "stream",
          "text": [
            "안녕\n"
          ],
          "name": "stdout"
        }
      ]
    },
    {
      "cell_type": "code",
      "metadata": {
        "colab": {
          "base_uri": "https://localhost:8080/"
        },
        "id": "XmPpT90Ze3CW",
        "outputId": "228c1b46-27b1-4bea-bb07-8e058d5d3e6d"
      },
      "source": [
        "\r\n",
        "class Person:  \r\n",
        "  name = \"워니\"  # 클래스에서 변수를 사용함, Person이라는 클래스에게 이름을 줌\r\n",
        "\r\n",
        "  def say_hello(self): \r\n",
        "    print(\"안녕! 나는 \" + self.name)  # self : 만들어진 오브젝트에 변수를 활용할때 사용\r\n",
        "\r\n",
        "p = Person()  \r\n",
        "p.say_hello() "
      ],
      "execution_count": null,
      "outputs": [
        {
          "output_type": "stream",
          "text": [
            "안녕! 나는 워니\n"
          ],
          "name": "stdout"
        }
      ]
    },
    {
      "cell_type": "code",
      "metadata": {
        "colab": {
          "base_uri": "https://localhost:8080/"
        },
        "id": "j4v8RO9ShBlI",
        "outputId": "b7194849-d762-4f45-849e-6f07df9df859"
      },
      "source": [
        "# Person을 여러명 만들고 싶을때\r\n",
        "\r\n",
        "class Person:  \r\n",
        "  name = \"워니\"  # 클래스에서 변수를 사용함, Person이라는 클래스에게 이름을 줌\r\n",
        "\r\n",
        "  def say_hello(self): \r\n",
        "    print(\"안녕! 나는 \" + self.name)  # self : 만들어진 오브젝트에 변수를 활용할때 사용\r\n",
        "\r\n",
        "wonie = Person()  \r\n",
        "michael = Person()  \r\n",
        "jenny = Person() \r\n",
        "\r\n",
        "wonie.say_hello() \r\n",
        "michael.say_hello() \r\n",
        "jenny.say_hello() \r\n"
      ],
      "execution_count": null,
      "outputs": [
        {
          "output_type": "stream",
          "text": [
            "안녕! 나는 워니\n",
            "안녕! 나는 워니\n",
            "안녕! 나는 워니\n"
          ],
          "name": "stdout"
        }
      ]
    },
    {
      "cell_type": "code",
      "metadata": {
        "id": "IkT2ru4li9un"
      },
      "source": [
        "# name 변수를 \"워니\"로 고정 시키지 않고, 오브젝트를 만들때 새로 이름을 짓고 싶다\r\n",
        "# __init__ 함수를 사용, init 함수는 self를 첫 인자로 갖고, 그다음 사용할 변수를 지정함\r\n",
        "class Person:  \r\n",
        "  def __init__(self.name):\r\n",
        "    self.name = name\r\n",
        "\r\n",
        "   def say_hello(self): \r\n",
        "    print(\"안녕! 나는 \" + self.name)  # self : 만들어진 오브젝트에 변수를 활용할때 사용\r\n",
        "\r\n",
        "wonie = Person()  \r\n",
        "michael = Person()  \r\n",
        "jenny = Person() \r\n",
        "\r\n",
        "wonie.say_hello() \r\n",
        "michael.say_hello() \r\n",
        "jenny.say_hello() "
      ],
      "execution_count": null,
      "outputs": []
    }
  ]
}